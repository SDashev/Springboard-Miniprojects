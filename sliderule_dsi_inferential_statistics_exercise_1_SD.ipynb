{
 "cells": [
  {
   "cell_type": "markdown",
   "metadata": {},
   "source": [
    "# What is the True Normal Human Body Temperature? \n",
    "\n",
    "#### Background\n",
    "\n",
    "The mean normal body temperature was held to be 37$^{\\circ}$C or 98.6$^{\\circ}$F for more than 120 years since it was first conceptualized and reported by Carl Wunderlich in a famous 1868 book. But, is this value statistically correct?"
   ]
  },
  {
   "cell_type": "markdown",
   "metadata": {},
   "source": [
    "<h3>Exercises</h3>\n",
    "\n",
    "<p>In this exercise, you will analyze a dataset of human body temperatures and employ the concepts of hypothesis testing, confidence intervals, and statistical significance.</p>\n",
    "\n",
    "<p>Answer the following questions <b>in this notebook below and submit to your Github account</b>.</p> \n",
    "\n",
    "<ol>\n",
    "<li>  Is the distribution of body temperatures normal? \n",
    "    <ul>\n",
    "    <li> Although this is not a requirement for the Central Limit Theorem to hold (read the introduction on Wikipedia's page about the CLT carefully: https://en.wikipedia.org/wiki/Central_limit_theorem), it gives us some peace of mind that the population may also be normally distributed if we assume that this sample is representative of the population.\n",
    "    <li> Think about the way you're going to check for the normality of the distribution. Graphical methods are usually used first, but there are also other ways: https://en.wikipedia.org/wiki/Normality_test\n",
    "    </ul>\n",
    "<li>  Is the sample size large? Are the observations independent?\n",
    "    <ul>\n",
    "    <li> Remember that this is a condition for the Central Limit Theorem, and hence the statistical tests we are using, to apply.\n",
    "    </ul>\n",
    "<li>  Is the true population mean really 98.6 degrees F?\n",
    "    <ul>\n",
    "    <li> First, try a bootstrap hypothesis test.\n",
    "    <li> Now, let's try frequentist statistical testing. Would you use a one-sample or two-sample test? Why?\n",
    "    <li> In this situation, is it appropriate to use the $t$ or $z$ statistic? \n",
    "    <li> Now try using the other test. How is the result be different? Why?\n",
    "    </ul>\n",
    "<li>  Draw a small sample of size 10 from the data and repeat both frequentist tests. \n",
    "    <ul>\n",
    "    <li> Which one is the correct one to use? \n",
    "    <li> What do you notice? What does this tell you about the difference in application of the $t$ and $z$ statistic?\n",
    "    </ul>\n",
    "<li>  At what temperature should we consider someone's temperature to be \"abnormal\"?\n",
    "    <ul>\n",
    "    <li> As in the previous example, try calculating everything using the boostrap approach, as well as the frequentist approach.\n",
    "    <li> Start by computing the margin of error and confidence interval. When calculating the confidence interval, keep in mind that you should use the appropriate formula for one draw, and not N draws.\n",
    "    </ul>\n",
    "<li>  Is there a significant difference between males and females in normal temperature?\n",
    "    <ul>\n",
    "    <li> What testing approach did you use and why?\n",
    "    <li> Write a story with your conclusion in the context of the original problem.\n",
    "    </ul>\n",
    "</ol>\n",
    "\n",
    "You can include written notes in notebook cells using Markdown: \n",
    "   - In the control panel at the top, choose Cell > Cell Type > Markdown\n",
    "   - Markdown syntax: http://nestacms.com/docs/creating-content/markdown-cheat-sheet\n",
    "\n",
    "#### Resources\n",
    "\n",
    "+ Information and data sources: http://www.amstat.org/publications/jse/datasets/normtemp.txt, http://www.amstat.org/publications/jse/jse_data_archive.htm\n",
    "+ Markdown syntax: http://nestacms.com/docs/creating-content/markdown-cheat-sheet\n",
    "\n",
    "****"
   ]
  },
  {
   "cell_type": "code",
   "execution_count": 28,
   "metadata": {},
   "outputs": [],
   "source": [
    "import pandas as pd\n",
    "\n",
    "df = pd.read_csv('data/human_body_temperature.csv')"
   ]
  },
  {
   "cell_type": "code",
   "execution_count": 29,
   "metadata": {},
   "outputs": [],
   "source": [
    "# Your work here.\n",
    "# We import the necessary packages.\n",
    "import matplotlib.pyplot as plt\n",
    "import seaborn as sns\n",
    "import numpy as np\n",
    "sns.set()\n",
    "from scipy import stats\n",
    "import statsmodels.api as sm\n",
    "import pylab\n",
    "%matplotlib inline\n",
    "np.random.seed(33)"
   ]
  },
  {
   "cell_type": "code",
   "execution_count": 30,
   "metadata": {
    "scrolled": true
   },
   "outputs": [
    {
     "data": {
      "text/html": [
       "<div>\n",
       "<style scoped>\n",
       "    .dataframe tbody tr th:only-of-type {\n",
       "        vertical-align: middle;\n",
       "    }\n",
       "\n",
       "    .dataframe tbody tr th {\n",
       "        vertical-align: top;\n",
       "    }\n",
       "\n",
       "    .dataframe thead th {\n",
       "        text-align: right;\n",
       "    }\n",
       "</style>\n",
       "<table border=\"1\" class=\"dataframe\">\n",
       "  <thead>\n",
       "    <tr style=\"text-align: right;\">\n",
       "      <th></th>\n",
       "      <th>temperature</th>\n",
       "      <th>gender</th>\n",
       "      <th>heart_rate</th>\n",
       "    </tr>\n",
       "  </thead>\n",
       "  <tbody>\n",
       "    <tr>\n",
       "      <th>0</th>\n",
       "      <td>99.3</td>\n",
       "      <td>F</td>\n",
       "      <td>68.0</td>\n",
       "    </tr>\n",
       "    <tr>\n",
       "      <th>1</th>\n",
       "      <td>98.4</td>\n",
       "      <td>F</td>\n",
       "      <td>81.0</td>\n",
       "    </tr>\n",
       "    <tr>\n",
       "      <th>2</th>\n",
       "      <td>97.8</td>\n",
       "      <td>M</td>\n",
       "      <td>73.0</td>\n",
       "    </tr>\n",
       "    <tr>\n",
       "      <th>3</th>\n",
       "      <td>99.2</td>\n",
       "      <td>F</td>\n",
       "      <td>66.0</td>\n",
       "    </tr>\n",
       "    <tr>\n",
       "      <th>4</th>\n",
       "      <td>98.0</td>\n",
       "      <td>F</td>\n",
       "      <td>73.0</td>\n",
       "    </tr>\n",
       "  </tbody>\n",
       "</table>\n",
       "</div>"
      ],
      "text/plain": [
       "   temperature gender  heart_rate\n",
       "0         99.3      F        68.0\n",
       "1         98.4      F        81.0\n",
       "2         97.8      M        73.0\n",
       "3         99.2      F        66.0\n",
       "4         98.0      F        73.0"
      ]
     },
     "execution_count": 30,
     "metadata": {},
     "output_type": "execute_result"
    }
   ],
   "source": [
    "df.head()"
   ]
  },
  {
   "cell_type": "code",
   "execution_count": null,
   "metadata": {},
   "outputs": [],
   "source": []
  },
  {
   "cell_type": "code",
   "execution_count": 31,
   "metadata": {},
   "outputs": [],
   "source": [
    "# We define ecdf function for one dimensional array data\n",
    "def ecdf(data):\n",
    "    \"\"\"Calculates the ECDF of data\"\"\"\n",
    "    # number of data points\n",
    "    n = len(data)\n",
    "    \n",
    "    # we sort data\n",
    "    x = np.sort(data)\n",
    "    \n",
    "    # We space y values equally:\n",
    "    y = np.arange(1, n+1) / n\n",
    "    \n",
    "    return x, y"
   ]
  },
  {
   "cell_type": "markdown",
   "metadata": {},
   "source": [
    "__Question 1__\n",
    "\n",
    "Is the distribution of body temperatures normal? "
   ]
  },
  {
   "cell_type": "code",
   "execution_count": 32,
   "metadata": {},
   "outputs": [
    {
     "data": {
      "image/png": "[encoded data removed]",
      "text/plain": [
       "<Figure size 432x288 with 1 Axes>"
      ]
     },
     "metadata": {
      "needs_background": "light"
     },
     "output_type": "display_data"
    }
   ],
   "source": [
    "# variable to hold temp data\n",
    "temp =df['temperature']\n",
    "\n",
    "#parameters for normal distribution of body temperature\n",
    "mean_body = np.mean(temp)\n",
    "std_body = np.std(temp)\n",
    "\n",
    "# We construct normal distribution with mean and standard deviation\n",
    "# of the body temperature.\n",
    "body_norm = np.random.normal(98.25, 0.73, size=1000)\n",
    "\n",
    "x_theor, y_theor = ecdf(body_norm)\n",
    "plt.plot(x_theor, y_theor, marker='.', linestyle='none', color='red')\n",
    "\n",
    "x, y = ecdf(temp)\n",
    "plt.plot(x, y, marker='.', linestyle='none', color='blue')\n",
    "_ = plt.xlabel(' human temp data', alpha=0.5)\n",
    "_ = plt.ylabel('ECDF')\n",
    "\n",
    "plt.show()"
   ]
  },
  {
   "cell_type": "code",
   "execution_count": null,
   "metadata": {},
   "outputs": [],
   "source": []
  },
  {
   "cell_type": "code",
   "execution_count": null,
   "metadata": {},
   "outputs": [],
   "source": []
  },
  {
   "cell_type": "code",
   "execution_count": 33,
   "metadata": {},
   "outputs": [
    {
     "name": "stdout",
     "output_type": "stream",
     "text": [
      "mean body temp is  98.24923076923075\n",
      "standard deviation of the data is  0.730357778905038\n"
     ]
    }
   ],
   "source": [
    "mean_body = np.mean(temp)\n",
    "std_body = np.std(temp)\n",
    "print('mean body temp is ', mean_body)\n",
    "print('standard deviation of the data is ', std_body)"
   ]
  },
  {
   "cell_type": "markdown",
   "metadata": {},
   "source": [
    "Superimposing normal histogram with mean \n",
    "m = 98.25 \n",
    "\n",
    "and standard deviation\n",
    "std = 0.73 \n"
   ]
  },
  {
   "cell_type": "markdown",
   "metadata": {},
   "source": [
    "On the graph above, we see an outlier temperature.\n",
    "We can calculate the z-value of that temperature"
   ]
  },
  {
   "cell_type": "code",
   "execution_count": 34,
   "metadata": {},
   "outputs": [
    {
     "name": "stdout",
     "output_type": "stream",
     "text": [
      "z-value of max temp in array =  3.4924927267748074\n",
      "min temp observed =  96.3\n",
      "max temp observed =  100.8\n"
     ]
    }
   ],
   "source": [
    "# z statistics\n",
    "tem_max = temp.max()\n",
    "tem_min = temp.min()\n",
    "z_max = (tem_max - mean_body)/std_body\n",
    "print('z-value of max temp in array = ', z_max)\n",
    "print('min temp observed = ', tem_min)\n",
    "print('max temp observed = ', tem_max)"
   ]
  },
  {
   "cell_type": "markdown",
   "metadata": {},
   "source": [
    "The z-value of 3.49 suggest that the human body normal temperature may not be normally distributed. The sample size is less than 300, and z-value over 3.0 suggests it might not be normally distributed.\n",
    "\n",
    "On the other hand, all other observations follow closely the normal distribution path."
   ]
  },
  {
   "cell_type": "code",
   "execution_count": 35,
   "metadata": {},
   "outputs": [
    {
     "data": {
      "image/png": "[encoded data removed]",
      "text/plain": [
       "<Figure size 432x288 with 1 Axes>"
      ]
     },
     "metadata": {
      "needs_background": "light"
     },
     "output_type": "display_data"
    }
   ],
   "source": [
    "# q-q plot using statsmodels\n",
    "temp_norm = (temp - mean_body)/std_body\n",
    "sm.qqplot(temp_norm, line='45')\n",
    "\n",
    "pylab.show()"
   ]
  },
  {
   "cell_type": "markdown",
   "metadata": {},
   "source": [
    "The plot shows close resemblance with the normal distribution, with the exception of the outlier point in the upper corner"
   ]
  },
  {
   "cell_type": "code",
   "execution_count": null,
   "metadata": {},
   "outputs": [],
   "source": []
  },
  {
   "cell_type": "markdown",
   "metadata": {},
   "source": [
    "__Question 2__\n",
    "\n",
    "Is the sample size large? Are the observations independent? \n",
    "\n",
    "Remember that this is a condition for the Central Limit Theorem, and hence the statistical tests we are using, to apply. \n",
    "\n",
    "Body temperature is continuous variable. We have 130 observations. This set contains more than 50 observations, so it is considered large size.\n",
    "\n",
    "It is not stated that the observations are not independent. We can assume that the observations are independent."
   ]
  },
  {
   "cell_type": "code",
   "execution_count": null,
   "metadata": {},
   "outputs": [],
   "source": []
  },
  {
   "cell_type": "markdown",
   "metadata": {},
   "source": []
  },
  {
   "cell_type": "code",
   "execution_count": null,
   "metadata": {},
   "outputs": [],
   "source": []
  },
  {
   "cell_type": "markdown",
   "metadata": {},
   "source": [
    "__Question 3__\n",
    "\n",
    "Instructions: \n",
    "Is the true population mean really 98.6 degrees F? \n",
    "   \n",
    "First, try a bootstrap hypothesis test. \n",
    "\n",
    "Now, let's try frequentist statistical testing. Would you use a one-sample or two-sample test? Why? \n",
    "\n",
    "In this situation, is it appropriate to use the  𝑡-test or z test statistics\n",
    "\n",
    "Now try using the other test. How is the result be different? Why? "
   ]
  },
  {
   "cell_type": "code",
   "execution_count": null,
   "metadata": {},
   "outputs": [],
   "source": []
  },
  {
   "cell_type": "markdown",
   "metadata": {},
   "source": [
    "Null hypothesis: true population mean is 98.6 degrees F.\n",
    "\n",
    "We have one set of data and we can perform one sample test. \n",
    "\n",
    "Procedure:\n",
    "First, we translate the temperature data to have the required mean of 98.6F. \n",
    "\n",
    "Then, we take large number of replicates of the translated sample and calculate its mean.\n",
    "\n",
    "We calculate the probability to have the mean less than the original mean of the data set. \n",
    "\n",
    "Criteria:\n",
    "If we encounter less than 5% of the data points are less than the observed data mean, then,\n",
    "it is very unlikely to have mean temperature of 98.6F."
   ]
  },
  {
   "cell_type": "code",
   "execution_count": 36,
   "metadata": {},
   "outputs": [
    {
     "name": "stdout",
     "output_type": "stream",
     "text": [
      "p =  0.0\n"
     ]
    }
   ],
   "source": [
    "\n",
    "# we translate the temperature to match\n",
    "t_mean = np.mean(temp)\n",
    "trans_temp = temp - t_mean + 98.6\n",
    "\n",
    "# generating replicates 10,000 replicates\n",
    "# initializing array of replicates\n",
    "temp_replicate = np.empty(10000)\n",
    "\n",
    "# loop to generate replicates\n",
    "for i in range(10000):\n",
    "    temp_replicate = np.mean(np.random.choice(trans_temp, len(trans_temp)))\n",
    "\n",
    "# calculating p-value:\n",
    "p = np.sum(temp_replicate <= t_mean) / 10000\n",
    "\n",
    "print('p = ', p)"
   ]
  },
  {
   "cell_type": "markdown",
   "metadata": {},
   "source": [
    "The reported p value of 0.0 shows that it is very unlikely to have mean body temperature of 98.6F.\n",
    "\n",
    "\n",
    "\n",
    "Alternatively, we can conduct z-statistics test."
   ]
  },
  {
   "cell_type": "code",
   "execution_count": 37,
   "metadata": {
    "scrolled": true
   },
   "outputs": [
    {
     "name": "stdout",
     "output_type": "stream",
     "text": [
      "z value is  -5.4759252020785585\n"
     ]
    }
   ],
   "source": [
    "# calculating z-value\n",
    "z_value = (mean_body - 98.6)/(std_body/np.sqrt(len(temp)))\n",
    "print('z value is ', z_value)"
   ]
  },
  {
   "cell_type": "markdown",
   "metadata": {},
   "source": [
    "The above z value shows that 98.6 is more than 5.4 stadard deviations from the observed value. It is very much unlikely to have mean temperature of 98.6F.\n",
    "\n",
    "The associated p-value with calculated z statistics is approximately 0.\n"
   ]
  },
  {
   "cell_type": "code",
   "execution_count": null,
   "metadata": {},
   "outputs": [],
   "source": []
  },
  {
   "cell_type": "markdown",
   "metadata": {},
   "source": [
    "__Question 4__\n",
    "\n",
    "Draw a small sample of size 10 from the data and repeat both frequentist tests. \n",
    "Whit that small sample, we will perfrom t-test, because the sample size is small and t-test will be the correct one to use.\n",
    "\n",
    "Null hypothesis is the same: mean temperature = 98.6F, \n",
    "\n",
    "Alt. hypothesis is the same: mean temperature not equal to 98.6F.\n",
    "\n",
    "For the following test, I used ttest function from stats package."
   ]
  },
  {
   "cell_type": "code",
   "execution_count": 38,
   "metadata": {},
   "outputs": [
    {
     "data": {
      "image/png": "[encoded data removed]",
      "text/plain": [
       "<Figure size 432x288 with 3 Axes>"
      ]
     },
     "metadata": {
      "needs_background": "light"
     },
     "output_type": "display_data"
    },
    {
     "data": {
      "image/png": "[encoded data removed]",
      "text/plain": [
       "<Figure size 432x288 with 1 Axes>"
      ]
     },
     "metadata": {
      "needs_background": "light"
     },
     "output_type": "display_data"
    }
   ],
   "source": [
    "p_val_10 = np.empty(1000)\n",
    "p_val_20 = np.empty(1000)\n",
    "p_val_40 = np.empty(1000)\n",
    "stat = np.empty(1000)\n",
    "\n",
    "\n",
    "for i in range(1000):\n",
    "    # taking random sample from temp data\n",
    "    small_10 = np.random.choice(temp, 10)\n",
    "    small_20 = np.random.choice(temp, 20)\n",
    "    small_40 = np.random.choice(temp, 40)\n",
    "\n",
    "    #calculating t-statistics using stats module. \n",
    "    #Only the first one will show the corresponding t-values.\n",
    "    stat[i], p_val_10[i] = stats.ttest_1samp(small_10, 98.6)\n",
    "    _, p_val_20[i] = stats.ttest_1samp(small_20, 98.6)\n",
    "    _, p_val_40[i] = stats.ttest_1samp(small_40, 98.6)\n",
    "        \n",
    "# Plotting the calculated p-values using the simulations.\n",
    "plt.subplot(1, 3, 1)\n",
    "plt.hist(p_val_10, bins=20)\n",
    "plt.xlabel('p value small 10')\n",
    "plt.ylabel('frequency')\n",
    "\n",
    "plt.subplot(1, 3, 2)\n",
    "plt.hist(p_val_20, bins=20)\n",
    "plt.xlabel('p value small 20')\n",
    "plt.ylabel('frequency')\n",
    "\n",
    "plt.subplot(1, 3, 3)\n",
    "plt.hist(p_val_40, bins=20)\n",
    "plt.xlabel('p value small 40')\n",
    "plt.ylabel('frequency')\n",
    "plt.show()\n",
    "\n",
    "\n",
    "plt.hist(stat)\n",
    "plt.xlabel('t-statistic value')\n",
    "plt.ylabel('frequency')\n",
    "plt.show()"
   ]
  },
  {
   "cell_type": "markdown",
   "metadata": {},
   "source": [
    "When taking small random sample of the human body temperature, we cannot reject the null hypothesis. Most of the t-values lay in the acceptance region. \n",
    "\n",
    "Above graphs are created using small sample of the data with 10 temperatures chosen, 20 temperatures and 40 temperature sample chosen. Each bin of the graph represents 5% increase in p value. The first bar on each graph is number of p-values lower than 5%. \n",
    "\n",
    "When the size is 10, we get only 25% of all simulations rejecting hypothesis. When the size is 40, about 90% of the samples reject the null hypothesis. \n",
    "\n",
    "The graph of the second row is the calculated and tabulated corresponding t-values using sample of 10. The graph is already assymetric, as we can expect it to be."
   ]
  },
  {
   "cell_type": "code",
   "execution_count": null,
   "metadata": {},
   "outputs": [],
   "source": []
  },
  {
   "cell_type": "code",
   "execution_count": 39,
   "metadata": {},
   "outputs": [
    {
     "name": "stdout",
     "output_type": "stream",
     "text": [
      "mean body temp is  98.24923076923075\n",
      "standard deviation of the data is  0.730357778905038\n"
     ]
    }
   ],
   "source": [
    "mean_body = np.mean(temp)\n",
    "std_body = np.std(temp)\n",
    "print('mean body temp is ', mean_body)\n",
    "print('standard deviation of the data is ', std_body)"
   ]
  },
  {
   "cell_type": "markdown",
   "metadata": {},
   "source": [
    "__Question 5__\n",
    "\n",
    "At what temperature should we consider someone's temperature to be \"abnormal\"? \n",
    "\n",
    "As in the previous example, try calculating everything using the boostrap approach, as well as the frequentist approach. \n",
    "Start by computing the margin of error and confidence interval. When calculating the confidence interval, keep in mind that you should use the appropriate formula for one draw, and not N draws.\n",
    "\n",
    "We consinder the temperature of human body normally distributed. We calculated the mean and standard deviation of temperature to be 98.25F and 0.73F.\n",
    "\n",
    "All temperatures outside of the region of (98.25 - 3x0.73 to 98.25 + 3x0.73) can be considered abnormal."
   ]
  },
  {
   "cell_type": "code",
   "execution_count": 40,
   "metadata": {},
   "outputs": [
    {
     "name": "stdout",
     "output_type": "stream",
     "text": [
      "low margin normal body temperature is  96.05815743251563\n",
      "high margin normal body temperature is  100.44030410594587\n"
     ]
    }
   ],
   "source": [
    "low_margin = mean_body - 3 * std_body\n",
    "high_margin = mean_body + 3 * std_body\n",
    "print('low margin normal body temperature is ', low_margin)\n",
    "print('high margin normal body temperature is ', high_margin)"
   ]
  },
  {
   "cell_type": "code",
   "execution_count": 41,
   "metadata": {},
   "outputs": [
    {
     "name": "stdout",
     "output_type": "stream",
     "text": [
      "abnormal low temperatures:  Series([], Name: temperature, dtype: float64)\n",
      "abnormal high temperatures:  116    100.8\n",
      "Name: temperature, dtype: float64\n"
     ]
    }
   ],
   "source": [
    "low_temp = temp.loc[temp < low_margin]\n",
    "high_temp = temp.loc[temp > high_margin]\n",
    "print('abnormal low temperatures: ', low_temp)\n",
    "print('abnormal high temperatures: ', high_temp)"
   ]
  },
  {
   "cell_type": "markdown",
   "metadata": {},
   "source": [
    "There is no abnormal low temperature and there is one high abnormal temperature in the sample."
   ]
  },
  {
   "cell_type": "markdown",
   "metadata": {},
   "source": [
    "__Question 6__\n",
    "\n",
    "Is there a significant difference between males and females in normal temperature? \n",
    "What testing approach did you use and why? \n",
    "Write a story with your conclusion in the context of the original problem. "
   ]
  },
  {
   "cell_type": "code",
   "execution_count": 42,
   "metadata": {},
   "outputs": [
    {
     "name": "stdout",
     "output_type": "stream",
     "text": [
      "mean temperature for males is  98.10461538461537\n",
      "mean temperature for females is  98.39384615384614\n"
     ]
    }
   ],
   "source": [
    "m = df['temperature'].loc[df['gender']=='M']\n",
    "f = df['temperature'].loc[df['gender']=='F']\n",
    "\n",
    "mean_m = np.mean(m)\n",
    "mean_f = np.mean(f)\n",
    "\n",
    "print('mean temperature for males is ', mean_m)\n",
    "print('mean temperature for females is ', mean_f)"
   ]
  },
  {
   "cell_type": "markdown",
   "metadata": {},
   "source": [
    "The difference between the male and female mean temperature looks large, about 0.28F.\n",
    "\n",
    "Test 1: two sample test for mean.\n",
    "\n",
    "Null hypothesis: male and female mean temperature is equal.\\\\\n",
    "Alt. hypothesis: male and female mean temperature is not equal.\n",
    "\n",
    "We set the CI level at 95%. If the p-value is less than 0.05 we will reject the null hypothesis.\n",
    "\n",
    "The corresponding z-value for rejecting the null hypotesis with alpha = 0.05 is -1.96."
   ]
  },
  {
   "cell_type": "code",
   "execution_count": 43,
   "metadata": {
    "scrolled": true
   },
   "outputs": [
    {
     "name": "stdout",
     "output_type": "stream",
     "text": [
      "z-value is  -2.3032202891943516\n"
     ]
    }
   ],
   "source": [
    "diff_mean = mean_m - mean_f\n",
    "\n",
    "var_m = np.var(m)\n",
    "size_m = m.count()\n",
    "\n",
    "var_f = np.var(f)\n",
    "size_f = f.count()\n",
    "\n",
    "z_value = diff_mean/(var_m/size_m + var_f/size_f)**0.5\n",
    "print('z-value is ', z_value)"
   ]
  },
  {
   "cell_type": "markdown",
   "metadata": {},
   "source": [
    "The calculated z-value is below the treshhold, \n",
    "so we reject the null hypothesis at the given alpha.\n",
    "\n",
    "\n"
   ]
  },
  {
   "cell_type": "markdown",
   "metadata": {},
   "source": [
    "We will make bootstrap simulations under null hypothesis and observe how many values will be as extreme as the difference between female and male, since the female mean temperature is higher.\n",
    "\n",
    "We will use two functins, which are included below. First is permuting items to form replica of male and female temperature, second is calculating statistic from the replica and third is difference of means of two sets."
   ]
  },
  {
   "cell_type": "code",
   "execution_count": 44,
   "metadata": {},
   "outputs": [],
   "source": [
    "# bootstrap method\n",
    "# functions we need - 1)data_perm\n",
    "def data_perm(data1, data2):\n",
    "    '''Returns permutation of data1 and data2'''\n",
    "    #concatenate data:\n",
    "    data = np.concatenate((data1, data2))\n",
    "    \n",
    "    #permuting data\n",
    "    data_perm = np.random.permutation(data)\n",
    "    \n",
    "    #splitting the data\n",
    "    data_perm1 = data_perm[:len(data1)]\n",
    "    data_perm2 = data_perm[len(data1):]\n",
    "    \n",
    "    #return\n",
    "    return data_perm1, data_perm2\n",
    "\n",
    "#\n",
    "def draw_prm_replicates(data1, data2, func, size=1):\n",
    "    '''Generates multiple permutation replicates of \n",
    "    statistic func using data1, data2 and data_perm func inside.'''\n",
    "    \n",
    "    # initialize array of replicates\n",
    "    prm_replicates = np.empty(size)\n",
    "    \n",
    "    for i in range(size):\n",
    "        #generate sample\n",
    "        prm_sample1, prm_sample2 = data_perm(data1, data2)\n",
    "        \n",
    "        # compute test statistics of two data sets\n",
    "        prm_replicates[i] = func(prm_sample1, prm_sample2)\n",
    "        \n",
    "    return prm_replicates\n",
    "\n",
    "\n",
    "# difference of means function\n",
    "def diff_means(data1, data2):\n",
    "    '''Returns difference of means of two datasets.'''\n",
    "    return np.mean(data1) - np.mean(data2)"
   ]
  },
  {
   "cell_type": "markdown",
   "metadata": {},
   "source": [
    "Checking the hypothesis is below."
   ]
  },
  {
   "cell_type": "code",
   "execution_count": 45,
   "metadata": {
    "scrolled": false
   },
   "outputs": [
    {
     "name": "stdout",
     "output_type": "stream",
     "text": [
      "p-value for hypothesis that male and female are from the same population 0.0107\n"
     ]
    }
   ],
   "source": [
    "# bootstrap calculation\n",
    "# observed difference of means\n",
    "obs_diff = diff_means(m, f)\n",
    "\n",
    "# sampling the difference\n",
    "sample = draw_prm_replicates(m, f, diff_means, 10000)\n",
    "\n",
    "# calculating p-value for male < female\n",
    "p_value = np.sum(sample < obs_diff) / len(sample)\n",
    "\n",
    "# print the p-value\n",
    "print('p-value for hypothesis that male and female are from the same population', p_value)\n"
   ]
  },
  {
   "cell_type": "markdown",
   "metadata": {},
   "source": [
    "The hypothesis that male and female have equal mean temperature is rejected when we set \n",
    "alpha to be 0.05. \n",
    "\n",
    "The conclusion we reached there is significant difference between the male and female mean temperature.\n",
    "\n",
    "Mean human temperature is normally distributed. The deviation depends on variables that are beyond the observations in the set. It varies with part of day and age of the person observed.\n",
    "\n",
    "The article at https://www.webmd.com/first-aid/normal-body-temperature#1 cites mean body temperature about 98.2F, which is very close to the calculated mean temperature here."
   ]
  }
 ],
 "metadata": {
  "kernelspec": {
   "display_name": "Python 3",
   "language": "python",
   "name": "python3"
  },
  "language_info": {
   "codemirror_mode": {
    "name": "ipython",
    "version": 3
   },
   "file_extension": ".py",
   "mimetype": "text/x-python",
   "name": "python",
   "nbconvert_exporter": "python",
   "pygments_lexer": "ipython3",
   "version": "3.7.2"
  }
 },
 "nbformat": 4,
 "nbformat_minor": 1
}
