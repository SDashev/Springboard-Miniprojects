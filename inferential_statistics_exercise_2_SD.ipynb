{
 "cells": [
  {
   "cell_type": "markdown",
   "metadata": {},
   "source": [
    "# Examining Racial Discrimination in the US Job Market\n",
    "\n",
    "### Background\n",
    "Racial discrimination continues to be pervasive in cultures throughout the world. Researchers examined the level of racial discrimination in the United States labor market by randomly assigning identical résumés to black-sounding or white-sounding names and observing the impact on requests for interviews from employers.\n",
    "\n",
    "### Data\n",
    "In the dataset provided, each row represents a resume. The 'race' column has two values, 'b' and 'w', indicating black-sounding and white-sounding. The column 'call' has two values, 1 and 0, indicating whether the resume received a call from employers or not.\n",
    "\n",
    "Note that the 'b' and 'w' values in race are assigned randomly to the resumes when presented to the employer."
   ]
  },
  {
   "cell_type": "markdown",
   "metadata": {},
   "source": [
    "### Exercises\n",
    "You will perform a statistical analysis to establish whether race has a significant impact on the rate of callbacks for resumes.\n",
    "\n",
    "Answer the following questions **in this notebook below and submit to your Github account**. \n",
    "\n",
    "   1. What test is appropriate for this problem? Does CLT apply?\n",
    "   2. What are the null and alternate hypotheses?\n",
    "   3. Compute margin of error, confidence interval, and p-value. Try using both the bootstrapping and the frequentist statistical approaches.\n",
    "   4. Write a story describing the statistical significance in the context or the original problem.\n",
    "   5. Does your analysis mean that race/name is the most important factor in callback success? Why or why not? If not, how would you amend your analysis?\n",
    "\n",
    "You can include written notes in notebook cells using Markdown: \n",
    "   - In the control panel at the top, choose Cell > Cell Type > Markdown\n",
    "   - Markdown syntax: http://nestacms.com/docs/creating-content/markdown-cheat-sheet\n",
    "\n",
    "#### Resources\n",
    "+ Experiment information and data source: http://www.povertyactionlab.org/evaluation/discrimination-job-market-united-states\n",
    "+ Scipy statistical methods: http://docs.scipy.org/doc/scipy/reference/stats.html \n",
    "+ Markdown syntax: http://nestacms.com/docs/creating-content/markdown-cheat-sheet\n",
    "+ Formulas for the Bernoulli distribution: https://en.wikipedia.org/wiki/Bernoulli_distribution"
   ]
  },
  {
   "cell_type": "code",
   "execution_count": 1,
   "metadata": {},
   "outputs": [],
   "source": [
    "import pandas as pd\n",
    "import numpy as np\n",
    "from scipy import stats"
   ]
  },
  {
   "cell_type": "code",
   "execution_count": 2,
   "metadata": {},
   "outputs": [],
   "source": [
    "data = pd.io.stata.read_stata('data/us_job_market_discrimination.dta')"
   ]
  },
  {
   "cell_type": "code",
   "execution_count": 3,
   "metadata": {},
   "outputs": [
    {
     "data": {
      "text/plain": [
       "235.0"
      ]
     },
     "execution_count": 3,
     "metadata": {},
     "output_type": "execute_result"
    }
   ],
   "source": [
    "# number of callbacks for black-sounding names\n",
    "sum(data[data.race=='w'].call)"
   ]
  },
  {
   "cell_type": "code",
   "execution_count": 4,
   "metadata": {},
   "outputs": [
    {
     "data": {
      "text/html": [
       "<div>\n",
       "<style scoped>\n",
       "    .dataframe tbody tr th:only-of-type {\n",
       "        vertical-align: middle;\n",
       "    }\n",
       "\n",
       "    .dataframe tbody tr th {\n",
       "        vertical-align: top;\n",
       "    }\n",
       "\n",
       "    .dataframe thead th {\n",
       "        text-align: right;\n",
       "    }\n",
       "</style>\n",
       "<table border=\"1\" class=\"dataframe\">\n",
       "  <thead>\n",
       "    <tr style=\"text-align: right;\">\n",
       "      <th></th>\n",
       "      <th>id</th>\n",
       "      <th>ad</th>\n",
       "      <th>education</th>\n",
       "      <th>ofjobs</th>\n",
       "      <th>yearsexp</th>\n",
       "      <th>honors</th>\n",
       "      <th>volunteer</th>\n",
       "      <th>military</th>\n",
       "      <th>empholes</th>\n",
       "      <th>occupspecific</th>\n",
       "      <th>...</th>\n",
       "      <th>compreq</th>\n",
       "      <th>orgreq</th>\n",
       "      <th>manuf</th>\n",
       "      <th>transcom</th>\n",
       "      <th>bankreal</th>\n",
       "      <th>trade</th>\n",
       "      <th>busservice</th>\n",
       "      <th>othservice</th>\n",
       "      <th>missind</th>\n",
       "      <th>ownership</th>\n",
       "    </tr>\n",
       "  </thead>\n",
       "  <tbody>\n",
       "    <tr>\n",
       "      <th>0</th>\n",
       "      <td>b</td>\n",
       "      <td>1</td>\n",
       "      <td>4</td>\n",
       "      <td>2</td>\n",
       "      <td>6</td>\n",
       "      <td>0</td>\n",
       "      <td>0</td>\n",
       "      <td>0</td>\n",
       "      <td>1</td>\n",
       "      <td>17</td>\n",
       "      <td>...</td>\n",
       "      <td>1.0</td>\n",
       "      <td>0.0</td>\n",
       "      <td>1.0</td>\n",
       "      <td>0.0</td>\n",
       "      <td>0.0</td>\n",
       "      <td>0.0</td>\n",
       "      <td>0.0</td>\n",
       "      <td>0.0</td>\n",
       "      <td>0.0</td>\n",
       "      <td></td>\n",
       "    </tr>\n",
       "    <tr>\n",
       "      <th>1</th>\n",
       "      <td>b</td>\n",
       "      <td>1</td>\n",
       "      <td>3</td>\n",
       "      <td>3</td>\n",
       "      <td>6</td>\n",
       "      <td>0</td>\n",
       "      <td>1</td>\n",
       "      <td>1</td>\n",
       "      <td>0</td>\n",
       "      <td>316</td>\n",
       "      <td>...</td>\n",
       "      <td>1.0</td>\n",
       "      <td>0.0</td>\n",
       "      <td>1.0</td>\n",
       "      <td>0.0</td>\n",
       "      <td>0.0</td>\n",
       "      <td>0.0</td>\n",
       "      <td>0.0</td>\n",
       "      <td>0.0</td>\n",
       "      <td>0.0</td>\n",
       "      <td></td>\n",
       "    </tr>\n",
       "    <tr>\n",
       "      <th>2</th>\n",
       "      <td>b</td>\n",
       "      <td>1</td>\n",
       "      <td>4</td>\n",
       "      <td>1</td>\n",
       "      <td>6</td>\n",
       "      <td>0</td>\n",
       "      <td>0</td>\n",
       "      <td>0</td>\n",
       "      <td>0</td>\n",
       "      <td>19</td>\n",
       "      <td>...</td>\n",
       "      <td>1.0</td>\n",
       "      <td>0.0</td>\n",
       "      <td>1.0</td>\n",
       "      <td>0.0</td>\n",
       "      <td>0.0</td>\n",
       "      <td>0.0</td>\n",
       "      <td>0.0</td>\n",
       "      <td>0.0</td>\n",
       "      <td>0.0</td>\n",
       "      <td></td>\n",
       "    </tr>\n",
       "    <tr>\n",
       "      <th>3</th>\n",
       "      <td>b</td>\n",
       "      <td>1</td>\n",
       "      <td>3</td>\n",
       "      <td>4</td>\n",
       "      <td>6</td>\n",
       "      <td>0</td>\n",
       "      <td>1</td>\n",
       "      <td>0</td>\n",
       "      <td>1</td>\n",
       "      <td>313</td>\n",
       "      <td>...</td>\n",
       "      <td>1.0</td>\n",
       "      <td>0.0</td>\n",
       "      <td>1.0</td>\n",
       "      <td>0.0</td>\n",
       "      <td>0.0</td>\n",
       "      <td>0.0</td>\n",
       "      <td>0.0</td>\n",
       "      <td>0.0</td>\n",
       "      <td>0.0</td>\n",
       "      <td></td>\n",
       "    </tr>\n",
       "    <tr>\n",
       "      <th>4</th>\n",
       "      <td>b</td>\n",
       "      <td>1</td>\n",
       "      <td>3</td>\n",
       "      <td>3</td>\n",
       "      <td>22</td>\n",
       "      <td>0</td>\n",
       "      <td>0</td>\n",
       "      <td>0</td>\n",
       "      <td>0</td>\n",
       "      <td>313</td>\n",
       "      <td>...</td>\n",
       "      <td>1.0</td>\n",
       "      <td>1.0</td>\n",
       "      <td>0.0</td>\n",
       "      <td>0.0</td>\n",
       "      <td>0.0</td>\n",
       "      <td>0.0</td>\n",
       "      <td>0.0</td>\n",
       "      <td>1.0</td>\n",
       "      <td>0.0</td>\n",
       "      <td>Nonprofit</td>\n",
       "    </tr>\n",
       "  </tbody>\n",
       "</table>\n",
       "<p>5 rows × 65 columns</p>\n",
       "</div>"
      ],
      "text/plain": [
       "  id ad  education  ofjobs  yearsexp  honors  volunteer  military  empholes  \\\n",
       "0  b  1          4       2         6       0          0         0         1   \n",
       "1  b  1          3       3         6       0          1         1         0   \n",
       "2  b  1          4       1         6       0          0         0         0   \n",
       "3  b  1          3       4         6       0          1         0         1   \n",
       "4  b  1          3       3        22       0          0         0         0   \n",
       "\n",
       "   occupspecific  ...  compreq  orgreq  manuf  transcom  bankreal trade  \\\n",
       "0             17  ...      1.0     0.0    1.0       0.0       0.0   0.0   \n",
       "1            316  ...      1.0     0.0    1.0       0.0       0.0   0.0   \n",
       "2             19  ...      1.0     0.0    1.0       0.0       0.0   0.0   \n",
       "3            313  ...      1.0     0.0    1.0       0.0       0.0   0.0   \n",
       "4            313  ...      1.0     1.0    0.0       0.0       0.0   0.0   \n",
       "\n",
       "  busservice othservice  missind  ownership  \n",
       "0        0.0        0.0      0.0             \n",
       "1        0.0        0.0      0.0             \n",
       "2        0.0        0.0      0.0             \n",
       "3        0.0        0.0      0.0             \n",
       "4        0.0        1.0      0.0  Nonprofit  \n",
       "\n",
       "[5 rows x 65 columns]"
      ]
     },
     "execution_count": 4,
     "metadata": {},
     "output_type": "execute_result"
    }
   ],
   "source": [
    "data.head()"
   ]
  },
  {
   "cell_type": "code",
   "execution_count": null,
   "metadata": {},
   "outputs": [],
   "source": []
  },
  {
   "cell_type": "markdown",
   "metadata": {
    "collapsed": true
   },
   "source": [
    "<div class=\"span5 alert alert-success\">\n",
    "<p>Your answers to Q1 and Q2 here</p>\n",
    "</div>\n",
    "What test is appropriate for this problem? \n",
    "\n",
    "We have two samples: white called back and black called back. We can perform two sample data test with null hypothesis that the black and white come from the same popultation, that is, the race does not matter.\n",
    "\n",
    "Does CLT apply? (https://stattrek.com/statistics/dictionary.aspx?definition=central_limit_theorem)\n",
    "The sample we have is large enough. The call back is a random event. We can apply CLT, because the requirements for CLT are met. The ratio of call/no call is a proportion, and thus, we have a Bernoulli distribution.\n",
    "\n",
    "\n",
    "What are the null and alternate hypotheses?\n",
    "The null hypothesis is that the proportion for call back for black and call back for white are equal. \n",
    "The alternative hypothesis is the proportion for call back for black and the proportion for call back for white are different.\n",
    "\n",
    "We will calculate $z_{\\alpha}$ value of the observed proportion under the null hypothesis. If this value is above the treshhold, we can conclude that the null hypothesis is true. If the z value is below, we can safely reject the null hypothesis."
   ]
  },
  {
   "cell_type": "code",
   "execution_count": 7,
   "metadata": {},
   "outputs": [],
   "source": [
    "# Your solution to Q3 here"
   ]
  },
  {
   "cell_type": "code",
   "execution_count": 9,
   "metadata": {},
   "outputs": [],
   "source": [
    "import matplotlib.pyplot as plt\n",
    "import seaborn as sns\n",
    "sns.set()\n",
    "\n",
    "%matplotlib inline\n",
    "pd.options.display.latex.repr=True"
   ]
  },
  {
   "cell_type": "code",
   "execution_count": null,
   "metadata": {},
   "outputs": [],
   "source": []
  },
  {
   "cell_type": "code",
   "execution_count": 10,
   "metadata": {},
   "outputs": [
    {
     "name": "stdout",
     "output_type": "stream",
     "text": [
      "percent black called back is  0.06447638603696099\n",
      "percent white called back is  0.09650924024640657\n",
      "percent people called back is  0.08049281314168377\n"
     ]
    }
   ],
   "source": [
    "w = data[data.race=='w']\n",
    "b = data[data.race=='b']\n",
    "#alpha\n",
    "b_ratio = b.call.sum()/b.call.count()\n",
    "w_ratio = w.call.sum()/w.call.count()\n",
    "print('percent black called back is ', b_ratio)\n",
    "print('percent white called back is ', w_ratio)\n",
    "all_ratio = data.call.sum()/data.call.count()\n",
    "print('percent people called back is ', all_ratio)"
   ]
  },
  {
   "cell_type": "code",
   "execution_count": null,
   "metadata": {},
   "outputs": [],
   "source": []
  },
  {
   "cell_type": "code",
   "execution_count": 11,
   "metadata": {},
   "outputs": [
    {
     "name": "stdout",
     "output_type": "stream",
     "text": [
      "The 99% CIE is from  -0.052075033688641276  to  -0.011990674730249895\n"
     ]
    }
   ],
   "source": [
    "# confidence interval\n",
    "# variances\n",
    "b_var = np.var(b.call)\n",
    "w_var = np.var(w.call)\n",
    "\n",
    "# number in sets for formula\n",
    "n_b = b.call.count()\n",
    "n_w = w.call.count()\n",
    "\n",
    "# z_alpha value from z-value table conf = 99%\n",
    "Z_ALPHA = 2.575\n",
    "\n",
    "low_bound = (b_ratio - w_ratio) - Z_ALPHA*(b_var/n_b +w_var/n_w)**0.5\n",
    "high_bound = (b_ratio - w_ratio) + Z_ALPHA*(b_var/n_b +w_var/n_w)**0.5\n",
    "\n",
    "print('The 99% CIE is from ', low_bound, ' to ', high_bound)"
   ]
  },
  {
   "cell_type": "code",
   "execution_count": null,
   "metadata": {},
   "outputs": [],
   "source": []
  },
  {
   "cell_type": "code",
   "execution_count": 12,
   "metadata": {},
   "outputs": [
    {
     "name": "stdout",
     "output_type": "stream",
     "text": [
      "The z-value under null hypothesis is  -4.108412152434346\n"
     ]
    }
   ],
   "source": [
    "# z value test\n",
    "z_value = (b_ratio -w_ratio)/(all_ratio*(1-all_ratio)*(1/n_b + 1/n_w))**0.5\n",
    "print('The z-value under null hypothesis is ', z_value)"
   ]
  },
  {
   "cell_type": "code",
   "execution_count": null,
   "metadata": {},
   "outputs": [],
   "source": []
  },
  {
   "cell_type": "markdown",
   "metadata": {},
   "source": [
    "The p-value associated with the above z-value is approximately 0. This means, that the race is a factor in the call back."
   ]
  },
  {
   "cell_type": "code",
   "execution_count": 13,
   "metadata": {},
   "outputs": [
    {
     "name": "stdout",
     "output_type": "stream",
     "text": [
      "The calculated error is  0.0002871973751532675\n"
     ]
    }
   ],
   "source": [
    "# error\n",
    "st_dev_diff = (b_var / n_b + w_var / n_w) ** (0.5)\n",
    "\n",
    "# we use the opposite of Z_ALPHA, because we set it to negative value\n",
    "err_calc = Z_ALPHA * st_dev_diff /(n_b + n_w) ** 0.5\n",
    "print('The calculated error is ', err_calc)"
   ]
  },
  {
   "cell_type": "code",
   "execution_count": null,
   "metadata": {},
   "outputs": [],
   "source": []
  },
  {
   "cell_type": "code",
   "execution_count": 14,
   "metadata": {},
   "outputs": [],
   "source": [
    "# bootstrap method\n",
    "# functions we need - 1)data_perm\n",
    "def data_perm(data1, data2):\n",
    "    '''Returns permutation of data1 and data2'''\n",
    "    #concatenate data:\n",
    "    data = np.concatenate((data1, data2))\n",
    "    \n",
    "    #permuting data\n",
    "    data_perm = np.random.permutation(data)\n",
    "    \n",
    "    #splitting the data\n",
    "    data_perm1 = data_perm[:len(data1)]\n",
    "    data_perm2 = data_perm[len(data1):]\n",
    "    \n",
    "    #return\n",
    "    return data_perm1, data_perm2\n",
    "\n",
    "#\n",
    "def draw_prm_replicates(data1, data2, func, size=1):\n",
    "    '''Generates multiple permutation replicates of \n",
    "    statistic func using data1, data2 and data_perm func inside.'''\n",
    "    \n",
    "    # initialize array of replicates\n",
    "    prm_replicates = np.empty(size)\n",
    "    \n",
    "    for i in range(size):\n",
    "        #generate sample\n",
    "        prm_sample1, prm_sample2 = data_perm(data1, data2)\n",
    "        \n",
    "        # compute test statistics of two data sets\n",
    "        prm_replicates[i] = func(prm_sample1, prm_sample2)\n",
    "        \n",
    "    return prm_replicates\n",
    "\n",
    "\n",
    "# difference of means function\n",
    "def diff_means(data1, data2):\n",
    "    '''Returns difference of means of two datasets.'''\n",
    "    return np.mean(data1) - np.mean(data2)"
   ]
  },
  {
   "cell_type": "code",
   "execution_count": null,
   "metadata": {},
   "outputs": [],
   "source": []
  },
  {
   "cell_type": "code",
   "execution_count": 15,
   "metadata": {},
   "outputs": [
    {
     "name": "stdout",
     "output_type": "stream",
     "text": [
      "p-value is  0.0\n"
     ]
    }
   ],
   "source": [
    "# bootstrap calculation\n",
    "emp_mean = diff_means(b['call'], w['call'])\n",
    "\n",
    "# 100000 simulated values of diff of means\n",
    "sim_means = draw_prm_replicates(b['call'], w['call'], diff_means, 100000)\n",
    "\n",
    "# calculate p value all sim_means that are greater than emp_mean\n",
    "p_value = np.sum(sim_means <= emp_mean) / len(sim_means)\n",
    "\n",
    "# printing the value\n",
    "print('p-value is ', p_value)"
   ]
  },
  {
   "cell_type": "code",
   "execution_count": null,
   "metadata": {},
   "outputs": [],
   "source": []
  },
  {
   "cell_type": "code",
   "execution_count": 16,
   "metadata": {},
   "outputs": [
    {
     "name": "stdout",
     "output_type": "stream",
     "text": [
      "CIE margins are for simulated data difference, given the null hypothesis are [-0.01971253]  and  [0.01971253]\n",
      "difference of means calculated using data is  -0.032032855\n"
     ]
    }
   ],
   "source": [
    "#simulating confidence interval at 99%.\n",
    "cie_low = np.percentile(sim_means, [0.5])\n",
    "cie_high = np.percentile(sim_means, [99.5])\n",
    "\n",
    "#printing the interval\n",
    "print('CIE margins are for simulated data difference, given the null hypothesis are', cie_low, ' and ', cie_high)\n",
    "print('difference of means calculated using data is ', emp_mean)"
   ]
  },
  {
   "cell_type": "code",
   "execution_count": null,
   "metadata": {},
   "outputs": [],
   "source": []
  },
  {
   "cell_type": "code",
   "execution_count": 17,
   "metadata": {},
   "outputs": [
    {
     "data": {
      "image/png": "[encoded data removed]",
      "text/plain": [
       "<Figure size 432x288 with 1 Axes>"
      ]
     },
     "metadata": {
      "needs_background": "light"
     },
     "output_type": "display_data"
    }
   ],
   "source": [
    "# simulate blacks data under null hypothesis and compare to the empirical value b_ratio\n",
    "\n",
    "# initialize array to calculate simulated sets\n",
    "sim_ratio = np.empty(10000)\n",
    "\n",
    "# calculate ratio of call/nocall for the simulated data:\n",
    "for i in range(10000):\n",
    "    sim_b, _ = data_perm(b['call'], w['call'])\n",
    "    sim_ratio[i] = sim_b.sum()/len(sim_b)\n",
    "#\n",
    "plt.hist(sim_ratio, density=True)\n",
    "plt.xlabel('ratio called back for black simulated')\n",
    "plt.ylabel('PDF')\n",
    "plt.show()"
   ]
  },
  {
   "cell_type": "code",
   "execution_count": null,
   "metadata": {},
   "outputs": [],
   "source": []
  },
  {
   "cell_type": "markdown",
   "metadata": {},
   "source": [
    "Does your analysis mean that race/name is the most important factor in callback success? Wh0y or why not? If not, how would you amend your analysis?\n",
    "\n",
    "The analysis of the name-call shows clearly that the name matters. Is it the most important factor in call back? \n",
    "This question was not part of the analysis above. What we need to do to investigate, is to compare correlation coefficient name-call and compare it to all other correlation coefficient. Just then, we can make sure about the importance of the name in the process of calling back a person."
   ]
  },
  {
   "cell_type": "code",
   "execution_count": null,
   "metadata": {},
   "outputs": [],
   "source": []
  },
  {
   "cell_type": "markdown",
   "metadata": {},
   "source": [
    "<div class=\"span5 alert alert-success\">\n",
    "<p> Your answers to Q4 and Q5 here </p>\n",
    "</div>\n",
    "\n",
    "percent black called back is  0.06447638603696099\n",
    "percent white called back is  0.09650924024640657\n",
    "percent people called back is  0.08049281314168377\n",
    "\n",
    "\n",
    "Write a story describing the statistical significance in the context or the original problem.\n",
    "\n",
    "Your name is part of you. My name is part of me. How the names are related to I am called back for a job interview? \n",
    "If you do not know my name, my chance to be called for an interview is about 8%.\n",
    "If my name sounds black, my chance to be called for an interview is about 6.4%\n",
    "If my name sounds white, my chance bumpes up to 9.7%!\n",
    "Quite of story, isn't it?\n",
    "\n",
    "The name matters. We checked the hypothesis that the proportion of people called is not correlated with the name of the person. We set $ \\alpha = 0.01$ and run the appropriate tests. We used two different methods: we calculate the probability to have that large of a difference, about 3.3% under the null hypothesis. The z - value turn to be more than 5. We used one of the largest value for null hypothesis = 99% CI, and still, the observed value was far away from the interval.\n",
    "\n",
    "When we used simulation, the simulated interval for the difference of means is from -0.02 to +0.02. The observed value for the difference of mean was -0.033! The observed value does not belong to the interval.\n",
    "\n",
    "Lastly, we simulated the mean ratio under the null hypothesis the proportion for blacks and white call back are equal, and plot it. The observed value for call back of 0.064 is not even on the shown part of the number line! The simulated interval for possible values for proportion is between 0.068 and 0.094, and the value we calculated is too far from that interval.\n",
    "\n",
    "Both methods, calculating p-value and simulating show that the proprtion for people called for interview depends on the name of the person. The null hypothesis that the proportion of people called is the same for blacks and whites, is rejected.\n",
    "\n"
   ]
  }
 ],
 "metadata": {
  "kernelspec": {
   "display_name": "Python 3",
   "language": "python",
   "name": "python3"
  },
  "language_info": {
   "codemirror_mode": {
    "name": "ipython",
    "version": 3
   },
   "file_extension": ".py",
   "mimetype": "text/x-python",
   "name": "python",
   "nbconvert_exporter": "python",
   "pygments_lexer": "ipython3",
   "version": "3.7.2"
  }
 },
 "nbformat": 4,
 "nbformat_minor": 1
}
